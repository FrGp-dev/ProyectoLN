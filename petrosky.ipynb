{
 "cells": [
  {
   "cell_type": "markdown",
   "metadata": {},
   "source": [
    "# Petro Tweets Preprocessing for Text Generation\n",
    "\n",
    "\n",
    "1. Loads tweet data from Hugging Face\n",
    "2. Cleans and preprocesses text\n"
   ]
  },
  {
   "cell_type": "markdown",
   "metadata": {},
   "source": [
    "## Data Loading"
   ]
  },
  {
   "cell_type": "code",
   "execution_count": 109,
   "metadata": {},
   "outputs": [
    {
     "name": "stdout",
     "output_type": "stream",
     "text": [
      "Requirement already satisfied: datasets in c:\\users\\dylan\\documents\\github\\proyectoln\\.venv\\lib\\site-packages (4.1.1)\n",
      "Requirement already satisfied: pandas in c:\\users\\dylan\\documents\\github\\proyectoln\\.venv\\lib\\site-packages (2.3.3)\n",
      "Requirement already satisfied: matplotlib in c:\\users\\dylan\\documents\\github\\proyectoln\\.venv\\lib\\site-packages (3.10.6)\n",
      "Requirement already satisfied: seaborn in c:\\users\\dylan\\documents\\github\\proyectoln\\.venv\\lib\\site-packages (0.13.2)\n",
      "Requirement already satisfied: nltk in c:\\users\\dylan\\documents\\github\\proyectoln\\.venv\\lib\\site-packages (3.9.1)\n",
      "Requirement already satisfied: filelock in c:\\users\\dylan\\documents\\github\\proyectoln\\.venv\\lib\\site-packages (from datasets) (3.19.1)\n",
      "Requirement already satisfied: numpy>=1.17 in c:\\users\\dylan\\documents\\github\\proyectoln\\.venv\\lib\\site-packages (from datasets) (2.3.3)\n",
      "Requirement already satisfied: pyarrow>=21.0.0 in c:\\users\\dylan\\documents\\github\\proyectoln\\.venv\\lib\\site-packages (from datasets) (21.0.0)\n",
      "Requirement already satisfied: dill<0.4.1,>=0.3.0 in c:\\users\\dylan\\documents\\github\\proyectoln\\.venv\\lib\\site-packages (from datasets) (0.4.0)\n",
      "Requirement already satisfied: requests>=2.32.2 in c:\\users\\dylan\\documents\\github\\proyectoln\\.venv\\lib\\site-packages (from datasets) (2.32.5)\n",
      "Requirement already satisfied: tqdm>=4.66.3 in c:\\users\\dylan\\documents\\github\\proyectoln\\.venv\\lib\\site-packages (from datasets) (4.67.1)\n",
      "Requirement already satisfied: xxhash in c:\\users\\dylan\\documents\\github\\proyectoln\\.venv\\lib\\site-packages (from datasets) (3.5.0)\n",
      "Requirement already satisfied: multiprocess<0.70.17 in c:\\users\\dylan\\documents\\github\\proyectoln\\.venv\\lib\\site-packages (from datasets) (0.70.16)\n",
      "Requirement already satisfied: fsspec<=2025.9.0,>=2023.1.0 in c:\\users\\dylan\\documents\\github\\proyectoln\\.venv\\lib\\site-packages (from fsspec[http]<=2025.9.0,>=2023.1.0->datasets) (2025.9.0)\n",
      "Requirement already satisfied: huggingface-hub>=0.24.0 in c:\\users\\dylan\\documents\\github\\proyectoln\\.venv\\lib\\site-packages (from datasets) (0.35.3)\n",
      "Requirement already satisfied: packaging in c:\\users\\dylan\\documents\\github\\proyectoln\\.venv\\lib\\site-packages (from datasets) (25.0)\n",
      "Requirement already satisfied: pyyaml>=5.1 in c:\\users\\dylan\\documents\\github\\proyectoln\\.venv\\lib\\site-packages (from datasets) (6.0.3)\n",
      "Requirement already satisfied: aiohttp!=4.0.0a0,!=4.0.0a1 in c:\\users\\dylan\\documents\\github\\proyectoln\\.venv\\lib\\site-packages (from fsspec[http]<=2025.9.0,>=2023.1.0->datasets) (3.12.15)\n",
      "Requirement already satisfied: python-dateutil>=2.8.2 in c:\\users\\dylan\\documents\\github\\proyectoln\\.venv\\lib\\site-packages (from pandas) (2.9.0.post0)\n",
      "Requirement already satisfied: pytz>=2020.1 in c:\\users\\dylan\\documents\\github\\proyectoln\\.venv\\lib\\site-packages (from pandas) (2025.2)\n",
      "Requirement already satisfied: tzdata>=2022.7 in c:\\users\\dylan\\documents\\github\\proyectoln\\.venv\\lib\\site-packages (from pandas) (2025.2)\n",
      "Requirement already satisfied: contourpy>=1.0.1 in c:\\users\\dylan\\documents\\github\\proyectoln\\.venv\\lib\\site-packages (from matplotlib) (1.3.3)\n",
      "Requirement already satisfied: cycler>=0.10 in c:\\users\\dylan\\documents\\github\\proyectoln\\.venv\\lib\\site-packages (from matplotlib) (0.12.1)\n",
      "Requirement already satisfied: fonttools>=4.22.0 in c:\\users\\dylan\\documents\\github\\proyectoln\\.venv\\lib\\site-packages (from matplotlib) (4.60.1)\n",
      "Requirement already satisfied: kiwisolver>=1.3.1 in c:\\users\\dylan\\documents\\github\\proyectoln\\.venv\\lib\\site-packages (from matplotlib) (1.4.9)\n",
      "Requirement already satisfied: pillow>=8 in c:\\users\\dylan\\documents\\github\\proyectoln\\.venv\\lib\\site-packages (from matplotlib) (11.3.0)\n",
      "Requirement already satisfied: pyparsing>=2.3.1 in c:\\users\\dylan\\documents\\github\\proyectoln\\.venv\\lib\\site-packages (from matplotlib) (3.2.5)\n",
      "Requirement already satisfied: click in c:\\users\\dylan\\documents\\github\\proyectoln\\.venv\\lib\\site-packages (from nltk) (8.3.0)\n",
      "Requirement already satisfied: joblib in c:\\users\\dylan\\documents\\github\\proyectoln\\.venv\\lib\\site-packages (from nltk) (1.5.2)\n",
      "Requirement already satisfied: regex>=2021.8.3 in c:\\users\\dylan\\documents\\github\\proyectoln\\.venv\\lib\\site-packages (from nltk) (2025.9.18)\n",
      "Requirement already satisfied: aiohappyeyeballs>=2.5.0 in c:\\users\\dylan\\documents\\github\\proyectoln\\.venv\\lib\\site-packages (from aiohttp!=4.0.0a0,!=4.0.0a1->fsspec[http]<=2025.9.0,>=2023.1.0->datasets) (2.6.1)\n",
      "Requirement already satisfied: aiosignal>=1.4.0 in c:\\users\\dylan\\documents\\github\\proyectoln\\.venv\\lib\\site-packages (from aiohttp!=4.0.0a0,!=4.0.0a1->fsspec[http]<=2025.9.0,>=2023.1.0->datasets) (1.4.0)\n",
      "Requirement already satisfied: attrs>=17.3.0 in c:\\users\\dylan\\documents\\github\\proyectoln\\.venv\\lib\\site-packages (from aiohttp!=4.0.0a0,!=4.0.0a1->fsspec[http]<=2025.9.0,>=2023.1.0->datasets) (25.3.0)\n",
      "Requirement already satisfied: frozenlist>=1.1.1 in c:\\users\\dylan\\documents\\github\\proyectoln\\.venv\\lib\\site-packages (from aiohttp!=4.0.0a0,!=4.0.0a1->fsspec[http]<=2025.9.0,>=2023.1.0->datasets) (1.7.0)\n",
      "Requirement already satisfied: multidict<7.0,>=4.5 in c:\\users\\dylan\\documents\\github\\proyectoln\\.venv\\lib\\site-packages (from aiohttp!=4.0.0a0,!=4.0.0a1->fsspec[http]<=2025.9.0,>=2023.1.0->datasets) (6.6.4)\n",
      "Requirement already satisfied: propcache>=0.2.0 in c:\\users\\dylan\\documents\\github\\proyectoln\\.venv\\lib\\site-packages (from aiohttp!=4.0.0a0,!=4.0.0a1->fsspec[http]<=2025.9.0,>=2023.1.0->datasets) (0.3.2)\n",
      "Requirement already satisfied: yarl<2.0,>=1.17.0 in c:\\users\\dylan\\documents\\github\\proyectoln\\.venv\\lib\\site-packages (from aiohttp!=4.0.0a0,!=4.0.0a1->fsspec[http]<=2025.9.0,>=2023.1.0->datasets) (1.20.1)\n",
      "Requirement already satisfied: idna>=2.0 in c:\\users\\dylan\\documents\\github\\proyectoln\\.venv\\lib\\site-packages (from yarl<2.0,>=1.17.0->aiohttp!=4.0.0a0,!=4.0.0a1->fsspec[http]<=2025.9.0,>=2023.1.0->datasets) (3.10)\n",
      "Requirement already satisfied: typing-extensions>=3.7.4.3 in c:\\users\\dylan\\documents\\github\\proyectoln\\.venv\\lib\\site-packages (from huggingface-hub>=0.24.0->datasets) (4.15.0)\n",
      "Requirement already satisfied: six>=1.5 in c:\\users\\dylan\\documents\\github\\proyectoln\\.venv\\lib\\site-packages (from python-dateutil>=2.8.2->pandas) (1.17.0)\n",
      "Requirement already satisfied: charset_normalizer<4,>=2 in c:\\users\\dylan\\documents\\github\\proyectoln\\.venv\\lib\\site-packages (from requests>=2.32.2->datasets) (3.4.3)\n",
      "Requirement already satisfied: urllib3<3,>=1.21.1 in c:\\users\\dylan\\documents\\github\\proyectoln\\.venv\\lib\\site-packages (from requests>=2.32.2->datasets) (2.5.0)\n",
      "Requirement already satisfied: certifi>=2017.4.17 in c:\\users\\dylan\\documents\\github\\proyectoln\\.venv\\lib\\site-packages (from requests>=2.32.2->datasets) (2025.8.3)\n",
      "Requirement already satisfied: colorama in c:\\users\\dylan\\documents\\github\\proyectoln\\.venv\\lib\\site-packages (from tqdm>=4.66.3->datasets) (0.4.6)\n",
      "Note: you may need to restart the kernel to use updated packages.\n"
     ]
    }
   ],
   "source": [
    "%pip install datasets pandas matplotlib seaborn nltk"
   ]
  },
  {
   "cell_type": "code",
   "execution_count": 110,
   "metadata": {},
   "outputs": [],
   "source": [
    "from datasets import load_dataset\n",
    "import pandas as pd\n",
    "import re\n",
    "from datetime import datetime\n",
    "from collections import Counter\n",
    "import matplotlib.pyplot as plt\n",
    "import seaborn as sns\n",
    "import nltk\n",
    "\n",
    "# Download NLTK tokenizer data \n",
    "try:\n",
    "    nltk.data.find('tokenizers/punkt_tab')\n",
    "except LookupError:\n",
    "    nltk.download('punkt_tab')\n",
    "\n",
    "# Set plotting style\n",
    "sns.set_style('whitegrid')\n",
    "plt.rcParams['figure.figsize'] = (12, 6)"
   ]
  },
  {
   "cell_type": "code",
   "execution_count": 111,
   "metadata": {},
   "outputs": [
    {
     "name": "stdout",
     "output_type": "stream",
     "text": [
      "Loaded 19790 tweets from 1 unique user(s)\n"
     ]
    }
   ],
   "source": [
    "# Load and convert to DataFrame\n",
    "dataset = load_dataset(\"jhonparra18/petro-tweets\")\n",
    "df = pd.DataFrame(dataset['train'])\n",
    "print(f\"Loaded {len(df)} tweets from {df['User'].nunique()} unique user(s)\")"
   ]
  },
  {
   "cell_type": "code",
   "execution_count": null,
   "metadata": {},
   "outputs": [],
   "source": [
    "from nltk.tokenize import word_tokenize\n",
    "\n",
    "def clean_and_tokenize_tweet(text):\n",
    "    \"\"\"    \n",
    "    Steps:\n",
    "    1. Remove URLs\n",
    "    2. Normalize @mentions to <USER>\n",
    "    3. Normalize #hashtags to <HASHTAG>\n",
    "    4. Normalize numbers to <NUM>\n",
    "    5. Convert to lowercase\n",
    "    6. Tokenize with NLTK\n",
    "    7. Add start/end tokens\n",
    "    \n",
    "    Returns: list of tokens\n",
    "    \"\"\"\n",
    "    # Remove URLs\n",
    "    text = re.sub(r'http\\S+|www\\S+|https\\S+', '', text, flags=re.MULTILINE)\n",
    "    \n",
    "    # Normalize @mentions to <USER>\n",
    "    text = re.sub(r'@\\w+', '<USER>', text)\n",
    "    \n",
    "    # Normalize #hashtags to <HASHTAG>\n",
    "    text = re.sub(r'#\\w+', '<HASHTAG>', text)\n",
    "    \n",
    "    # Remove extra whitespace\n",
    "    text = re.sub(r'\\s+', ' ', text).strip()\n",
    "    \n",
    "    # Convert to lowercase\n",
    "    text = text.lower()\n",
    "    \n",
    "    # Tokenize with NLTK (Spanish language)\n",
    "    tokens = word_tokenize(text, language='spanish')\n",
    "    \n",
    "    # Normalize numbers to <NUM>\n",
    "    tokens = ['<NUM>' if token.replace('.', '').replace(',', '').isdigit() else token for token in tokens]\n",
    "    \n",
    "    # Add start and end tokens\n",
    "    tokens = ['<s>'] + tokens + ['</s>']\n",
    "    \n",
    "    return tokens"
   ]
  },
  {
   "cell_type": "code",
   "execution_count": null,
   "metadata": {},
   "outputs": [
    {
     "name": "stdout",
     "output_type": "stream",
     "text": [
      "Total tweets after tokenization: 19613\n",
      "Tweets removed (empty after cleaning): 0\n",
      "\n",
      "=== Tokenization Statistics ===\n",
      "\n",
      "Token count per tweet:\n",
      "  Mean: 37.4\n",
      "  Median: 41.0\n",
      "  Min: 3\n",
      "  Max: 71\n",
      "\n",
      "Tweets with <USER> mentions: 0 (0.0%)\n",
      "Tweets with <HASHTAG>: 0 (0.0%)\n",
      "Tweets with <NUM>: 3240 (16.5%)\n",
      "\n",
      "=== Example Tweet ===\n",
      "Original: La prensa engolosinada con el dinero público que a manos llenas le entrega Peñalosa, no solo no registra el hecho que se desplomó en 1.6 millones los viales diarios en el sistema de transporte público, sino algo peor:\n",
      "\n",
      "Que en Bogotá la mortalidad infantil aumentó respecto al 2015\n",
      "Tokens: ['<s>', 'la', 'prensa', 'engolosinada', 'con', 'el', 'dinero', 'público', 'que', 'a', 'manos', 'llenas', 'le', 'entrega', 'peñalosa', ',', 'no', 'solo', 'no', 'registra', 'el', 'hecho', 'que', 'se', 'desplomó', 'en', '<NUM>', 'millones', 'los', 'viales', 'diarios', 'en', 'el', 'sistema', 'de', 'transporte', 'público', ',', 'sino', 'algo', 'peor', ':', 'que', 'en', 'bogotá', 'la', 'mortalidad', 'infantil', 'aumentó', 'respecto', 'al', '<NUM>', '</s>']\n"
     ]
    }
   ],
   "source": [
    "# Apply preprocessing and tokenization\n",
    "df['tokens'] = df['Tweet'].apply(clean_and_tokenize_tweet)\n",
    "\n",
    "# Remove empty tweets\n",
    "original_count = len(df)\n",
    "df = df[df['tokens'].apply(len) > 2].reset_index(drop=True)\n",
    "\n",
    "# Add metrics\n",
    "df['token_count'] = df['tokens'].apply(len)\n",
    "df['has_user_mention'] = df['tokens'].apply(lambda x: '<USER>' in x)\n",
    "df['has_hashtag'] = df['tokens'].apply(lambda x: '<HASHTAG>' in x)\n",
    "df['has_number'] = df['tokens'].apply(lambda x: '<NUM>' in x)\n",
    "\n",
    "print(f\"Total tweets after tokenization: {len(df)}\")\n",
    "\n",
    "# Basic statistics\n",
    "print(\"\\n=== Tokenization Statistics ===\")\n",
    "print(f\"\\nToken count per tweet:\")\n",
    "print(f\"  Mean: {df['token_count'].mean():.1f}\")\n",
    "print(f\"  Median: {df['token_count'].median():.1f}\")\n",
    "print(f\"  Min: {df['token_count'].min()}\")\n",
    "print(f\"  Max: {df['token_count'].max()}\")\n",
    "print(f\"\\nTweets with <USER> mentions: {df['has_user_mention'].sum()} ({df['has_user_mention'].mean()*100:.1f}%)\")\n",
    "print(f\"Tweets with <HASHTAG>: {df['has_hashtag'].sum()} ({df['has_hashtag'].mean()*100:.1f}%)\")\n",
    "print(f\"Tweets with <NUM>: {df['has_number'].sum()} ({df['has_number'].mean()*100:.1f}%)\")\n",
    "\n",
    "# Show example\n",
    "print(\"\\n=== Example Tweet ===\")\n",
    "print(f\"Original: {df['Tweet'].iloc[0]}\")\n",
    "print(f\"Tokens: {df['tokens'].iloc[0]}\")"
   ]
  },
  {
   "cell_type": "code",
   "execution_count": 114,
   "metadata": {},
   "outputs": [
    {
     "data": {
      "image/png": "[encoded data removed]",
      "text/plain": [
       "<Figure size 1200x500 with 1 Axes>"
      ]
     },
     "metadata": {},
     "output_type": "display_data"
    }
   ],
   "source": [
    "# Visualize token count distribution\n",
    "fig, ax = plt.subplots(1, 1, figsize=(12, 5))\n",
    "\n",
    "ax.hist(df['token_count'], bins=50, edgecolor='black', alpha=0.7, color='steelblue')\n",
    "ax.axvline(df['token_count'].mean(), color='red', linestyle='--', label=f'Mean: {df[\"token_count\"].mean():.0f}')\n",
    "ax.set_xlabel('Token Count')\n",
    "ax.set_ylabel('Frequency')\n",
    "ax.set_title('Distribution of Token Counts per Tweet')\n",
    "ax.legend()\n",
    "\n",
    "plt.tight_layout()\n",
    "plt.show()"
   ]
  },
  {
   "cell_type": "code",
   "execution_count": null,
   "metadata": {},
   "outputs": [
    {
     "name": "stdout",
     "output_type": "stream",
     "text": [
      "\n",
      "=== Vocabulary Statistics ===\n",
      "Total unique tokens in vocabulary: 30423\n",
      "\n",
      "Special tokens: ['<', '</s>', '<NUM>', '<s>']\n",
      "\n",
      "First 30 regular tokens (alphabetically):\n",
      "['!', '$', '%', '&', \"'\", \"''\", \"'es\", \"'llegó\", \"'viva\", '(', ')', '*', '+', ',', '-', '-35', '-a', '-como', '-en', '-haciendo', '-impuesto', '-reducir', '-se', '-up', '.', '..', '...', '....', '.cada', '.com']\n",
      "\n",
      "Last 30 regular tokens (alphabetically):\n",
      "['únicas', 'único', 'únicos', 'úniica', 'ĺa', 'žižek', '“', '”', '•aguachica', '•cantagallo', '•el', '•la', '•para', '•puerto', '•recaudar', '•san', '•seremos', '•vamos', '…', '∆', '♥️', '❤️🇨🇴', '⬇️', '🇨🇴', '👇🇨🇴', '👇👇👇', '👉', '💟', '🥈', '🧵']\n"
     ]
    }
   ],
   "source": [
    "# Build vocabulary from all tokens\n",
    "vocabulary = set()\n",
    "for tokens in df['tokens']:\n",
    "    vocabulary.update(tokens)\n",
    "\n",
    "vocabulary_sorted = sorted(vocabulary)\n",
    "\n",
    "print(f\"Total unique tokens in vocabulary: {len(vocabulary_sorted)}\")\n",
    "print(f\"\\nSpecial tokens: {[t for t in vocabulary_sorted if t.startswith('<')]}\")\n",
    "print(f\"\\nFirst 30 regular tokens:\")\n",
    "regular_tokens = [t for t in vocabulary_sorted if not t.startswith('<')]\n",
    "print(regular_tokens[:30])\n",
    "print(f\"\\nLast 30 regular tokens:\")\n",
    "print(regular_tokens[-30:])"
   ]
  }
 ],
 "metadata": {
  "kernelspec": {
   "display_name": ".venv",
   "language": "python",
   "name": "python3"
  },
  "language_info": {
   "codemirror_mode": {
    "name": "ipython",
    "version": 3
   },
   "file_extension": ".py",
   "mimetype": "text/x-python",
   "name": "python",
   "nbconvert_exporter": "python",
   "pygments_lexer": "ipython3",
   "version": "3.13.7"
  }
 },
 "nbformat": 4,
 "nbformat_minor": 4
}
