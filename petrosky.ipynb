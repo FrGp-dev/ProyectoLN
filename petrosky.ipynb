{
 "cells": [
  {
   "cell_type": "markdown",
   "id": "75f621b0",
   "metadata": {},
   "source": [
    "# Test"
   ]
  }
 ],
 "metadata": {
  "language_info": {
   "name": "python"
  }
 },
 "nbformat": 4,
 "nbformat_minor": 5
}
